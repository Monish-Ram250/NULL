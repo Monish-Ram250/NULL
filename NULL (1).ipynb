{
 "cells": [
  {
   "cell_type": "code",
   "execution_count": null,
   "id": "4e1c5b99-a7dc-4b6e-ae52-fddc196d1dd7",
   "metadata": {},
   "outputs": [],
   "source": [
    "import pandas as pd\n",
    "import numpy as np\n",
    "import matplotlib.pyplot as plt\n",
    "import squarify\n",
    "import plotly.express as px\n",
    "import seaborn as sns\n"
   ]
  },
  {
   "cell_type": "code",
   "execution_count": null,
   "id": "104b1cd7-f77e-4fa5-b078-d70956613589",
   "metadata": {},
   "outputs": [],
   "source": [
    "play_store_df = pd.read_csv(r\"C:\\Users\\monis\\OneDrive\\Desktop\\NULL\\Play Store Data.csv\")\n",
    "play_store_df\n"
   ]
  },
  {
   "cell_type": "code",
   "execution_count": null,
   "id": "8c2e4c98-4199-44c1-bce1-78569ce82b2f",
   "metadata": {},
   "outputs": [],
   "source": [
    "play_store_df.dtypes"
   ]
  },
  {
   "cell_type": "code",
   "execution_count": null,
   "id": "55115db1-0d5e-450c-ab01-b34fa4cfc111",
   "metadata": {},
   "outputs": [],
   "source": [
    "review_df = pd.read_csv(r\"C:\\Users\\monis\\OneDrive\\Desktop\\NULL\\User Reviews.csv\")\n",
    "review_df\n"
   ]
  },
  {
   "cell_type": "code",
   "execution_count": null,
   "id": "2984521c-f0b7-4ce9-a6ab-2b5cbca5e5d2",
   "metadata": {},
   "outputs": [],
   "source": [
    "review_df.dtypes"
   ]
  },
  {
   "cell_type": "code",
   "execution_count": null,
   "id": "fabda3e2-f83c-4b8a-a068-e84b40eaa355",
   "metadata": {},
   "outputs": [],
   "source": [
    "play_store_df = play_store_df.fillna(0)\n",
    "play_store_df"
   ]
  },
  {
   "cell_type": "code",
   "execution_count": null,
   "id": "7aadfbb3-6da9-49b8-8f86-894077b8575a",
   "metadata": {},
   "outputs": [],
   "source": [
    "review_df = review_df.fillna(0)\n",
    "review_df"
   ]
  },
  {
   "cell_type": "code",
   "execution_count": null,
   "id": "cca89712-df2c-473b-9160-6a02c26f9903",
   "metadata": {},
   "outputs": [],
   "source": [
    "play_store_df['Installs'] = play_store_df['Installs'].str.replace(',', '')\n",
    "play_store_df['Installs'] = play_store_df['Installs'].str.replace('+', '')\n",
    "# Replace 'Free' with '0' before converting to int\n",
    "play_store_df['Installs'] = play_store_df['Installs'].str.replace('Free', '0')\n",
    "play_store_df['Installs'] = play_store_df['Installs'].astype(int)\n",
    "play_store_df"
   ]
  },
  {
   "cell_type": "code",
   "execution_count": null,
   "id": "2ee2ef60-4391-473a-9bb6-94efc42cdc77",
   "metadata": {},
   "outputs": [],
   "source": [
    "#data types after converting installs column to numeric\n",
    "play_store_df.dtypes"
   ]
  },
  {
   "cell_type": "code",
   "execution_count": null,
   "id": "c314aff6-f3a4-4c8c-9031-666a9384edd5",
   "metadata": {},
   "outputs": [],
   "source": [
    "# Assuming 'App' is the common column in both DataFrames\n",
    "merged_df = pd.merge(play_store_df, review_df, on='App', how='inner')\n",
    "merged_df"
   ]
  },
  {
   "cell_type": "code",
   "execution_count": null,
   "id": "e85b6198-4637-4652-9c75-2ffb8c841f36",
   "metadata": {},
   "outputs": [],
   "source": [
    "merged_df.dtypes"
   ]
  },
  {
   "cell_type": "code",
   "execution_count": null,
   "id": "49058708-3089-4625-896c-fd0ed52a77f5",
   "metadata": {},
   "outputs": [],
   "source": [
    "def convert_size(size):\n",
    "    \"\"\"\n",
    "    Converts app size strings to numerical values in megabytes (MB).\n",
    "\n",
    "    Args:\n",
    "        size (str): The app size string (e.g., '10M', '2.5k').\n",
    "\n",
    "    Returns:\n",
    "        float: The app size in megabytes (MB) or np.nan if invalid format.\n",
    "    \"\"\"\n",
    "    if isinstance(size, str):  # Check if size is a string\n",
    "        if 'M' in size:\n",
    "            return float(size.replace('M', ''))\n",
    "        elif 'k' in size:\n",
    "            return float(size.replace('k', '')) / 1024\n",
    "        elif 'Varies with device' in size:\n",
    "            return np.nan  # Handle 'Varies with device' as NaN\n",
    "\n",
    "    # If not a string or doesn't match any pattern, return as is (assuming it's already numeric)\n",
    "    return size\n",
    "\n",
    "# Apply the convert_size function to the 'Size' column of play_store_df and merged_df\n",
    "play_store_df['Size'] = play_store_df['Size'].apply(convert_size)\n",
    "merged_df['Size'] = merged_df['Size'].apply(convert_size)"
   ]
  },
  {
   "cell_type": "code",
   "execution_count": null,
   "id": "62a1c0c0-bc58-4530-a3fc-107023728fa8",
   "metadata": {},
   "outputs": [],
   "source": [
    "def rating_group(rating):\n",
    "    \"\"\"\n",
    "    Categorizes app ratings into groups based on their value.\n",
    "\n",
    "    Args:\n",
    "        rating (float): The rating of the app.\n",
    "\n",
    "    Returns:\n",
    "        str: The rating group ('Top rated app', 'Above average', 'Average', or 'Below Average').\n",
    "    \"\"\"\n",
    "    if rating >= 4:  # Check if rating is 4 or higher\n",
    "        return 'Top rated app'  # Return 'Top rated app' if condition is True\n",
    "    elif rating >= 3:  # Check if rating is 3 or higher\n",
    "        return 'Above average'  # Return 'Above average' if condition is True\n",
    "    elif rating >= 2:  # Check if rating is 2 or higher\n",
    "        return 'Average'  # Return 'Average' if condition is True\n",
    "    else:  # If all previous conditions are False\n",
    "        return 'Below Average'  # Return 'Below Average'\n",
    "\n",
    "\n",
    "# Apply the rating_group function to the 'Rating' column of the play_store_df DataFrame\n",
    "# and store the results in a new column called 'Rating_Group'\n",
    "play_store_df['Rating_Group'] = play_store_df['Rating'].apply(rating_group)"
   ]
  },
  {
   "cell_type": "code",
   "execution_count": null,
   "id": "b1f56232-221e-405f-8014-aea47050c988",
   "metadata": {},
   "outputs": [],
   "source": [
    "play_store_df['Price'] = play_store_df['Price'].str.replace('$', '')\n",
    "# Replace 'Everyone' with '0' before converting to int\n",
    "play_store_df['Price'] = play_store_df['Price'].str.replace('Everyone', '0')\n",
    "play_store_df['Price'] = play_store_df['Price'].astype(float).astype(int)  # First convert to float to handle potential decimal points, then convert to integer"
   ]
  },
  {
   "cell_type": "code",
   "execution_count": null,
   "id": "25ad5187-0a22-45b4-965c-fad077bcb6e9",
   "metadata": {},
   "outputs": [],
   "source": [
    "play_store_df['Revenue'] = play_store_df['Price'] * play_store_df['Installs']"
   ]
  },
  {
   "cell_type": "code",
   "execution_count": null,
   "id": "32313c16-0290-4401-9c66-e9f40f397dcb",
   "metadata": {},
   "outputs": [],
   "source": [
    "# Convert 'Last Updated' column to datetime\n",
    "# pd.to_datetime is used to convert the column to datetime format\n",
    "# errors='coerce' handles invalid date formats by setting them to NaT (Not a Time)\n",
    "play_store_df['Last Updated'] = pd.to_datetime(play_store_df['Last Updated'], errors='coerce')"
   ]
  },
  {
   "cell_type": "code",
   "execution_count": null,
   "id": "d98c4bc6-6a3e-4ce3-bb96-a6e5e21db8d0",
   "metadata": {},
   "outputs": [],
   "source": [
    "import ssl\n",
    "ssl._create_default_https_context = ssl._create_unverified_context\n",
    "\n",
    "import nltk\n",
    "nltk.download('vader_lexicon')"
   ]
  },
  {
   "cell_type": "code",
   "execution_count": null,
   "id": "c2ba06ae-4b5b-4679-ba98-96507074ca80",
   "metadata": {},
   "outputs": [],
   "source": [
    "from nltk.sentiment.vader import SentimentIntensityAnalyzer\n",
    "\n",
    "sia = SentimentIntensityAnalyzer()\n",
    "\n",
    "merged_df['Sentiment_Score'] = merged_df['Translated_Review'].apply(lambda x: sia.polarity_scores(str(x))['compound'])"
   ]
  },
  {
   "cell_type": "code",
   "execution_count": null,
   "id": "30ceda0d-5ff6-4a2b-84aa-aa02b9ec3251",
   "metadata": {},
   "outputs": [],
   "source": [
    "def sentiment_category(score):\n",
    "    \"\"\"\n",
    "    Categorizes sentiment scores into Positive, Negative, or Neutral.\n",
    "\n",
    "    Args:\n",
    "        score (float): The sentiment score (compound score from SentimentIntensityAnalyzer).\n",
    "\n",
    "    Returns:\n",
    "        str: The sentiment category ('Positive', 'Negative', or 'Neutral').\n",
    "    \"\"\"\n",
    "    if score >= 0.05:  # Check if score is positive (greater than or equal to 0.05)\n",
    "        return 'Positive'  # Return 'Positive' if condition is True\n",
    "    elif score <= -0.05:  # Check if score is negative (less than or equal to -0.05)\n",
    "        return 'Negative'  # Return 'Negative' if condition is True\n",
    "    else:  # If neither positive nor negative (score is between -0.05 and 0.05)\n",
    "        return 'Neutral'  # Return 'Neutral'\n",
    "\n",
    "# Apply the"
   ]
  },
  {
   "cell_type": "code",
   "execution_count": null,
   "id": "010c1827-8bf7-4868-9271-3cc91d24652a",
   "metadata": {},
   "outputs": [],
   "source": [
    "import plotly.express as px\n",
    "\n",
    "fig = px.histogram(play_store_df, x='Category', y='Installs',color_discrete_sequence=['black'])\n",
    "fig.show()"
   ]
  },
  {
   "cell_type": "code",
   "execution_count": null,
   "id": "b01fa8b6-e83c-4cbd-a48c-b20a4fcf08e5",
   "metadata": {},
   "outputs": [],
   "source": [
    "# Assuming your dataframe is named 'play_store_df'\n",
    "types_fig = px.pie(play_store_df, names='Type', title='Distribution of App Types')\n",
    "types_fig.show()"
   ]
  },
  {
   "cell_type": "code",
   "execution_count": null,
   "id": "3b3cd19e-356d-4c49-ba5a-e2910d0c4a10",
   "metadata": {},
   "outputs": [],
   "source": [
    "rating_fig = px.histogram(play_store_df, x=\"Rating\",\n",
    "                   nbins=10,  # Adjust the number of bins as needed\n",
    "                   color_discrete_sequence=['black'], # Set color to black\n",
    "                   title='Distribution of App Ratings')\n",
    "rating_fig.update_layout(bargap=0.1)  # Adjust bar gap for better visualization\n",
    "rating_fig.show()"
   ]
  },
  {
   "cell_type": "code",
   "execution_count": null,
   "id": "0a1f32b7-3747-4a3e-ab85-a766c18e323c",
   "metadata": {},
   "outputs": [],
   "source": [
    "import plotly.express as px\n",
    "\n",
    "# Assuming 'Translated_Review' contains the review text\n",
    "# Get top 20 most frequent reviews\n",
    "top_reviews = merged_df['Translated_Review'].value_counts().head(20)\n",
    "\n",
    "# Create the bar graph using top reviews\n",
    "review_fig = px.bar(\n",
    "    x=top_reviews.index,  # Unique review values\n",
    "    y=top_reviews.values,  # Frequency of each review\n",
    "    labels={'x': 'Translated_Review', 'y': 'Count'},\n",
    "    title='Distribution of Top 20 Reviews',  # Updated title\n",
    "    color_discrete_sequence=['black']  # Optional: Set bar color to black\n",
    ")\n",
    "\n",
    "# Update layout for dark theme, customizations, and rotated x-axis labels\n",
    "review_fig.update_layout(\n",
    "    plot_bgcolor='white',\n",
    "    paper_bgcolor='black',\n",
    "    font_color='white',\n",
    "    title_font={'size': 16},\n",
    "    xaxis=dict(title_font={'size': 12}, tickangle=45),  # Rotate x-axis labels\n",
    "    yaxis=dict(title_font={'size': 12}),\n",
    "    margin=dict(l=10, r=10, t=30, b=10),\n",
    "    width=1000,  # Increase width for better readability\n",
    "    height=600   # Increase height for better readability\n",
    ")\n",
    "\n",
    "review_fig.show()"
   ]
  },
  {
   "cell_type": "code",
   "execution_count": null,
   "id": "59b592a3-37fd-4114-8277-338b37613775",
   "metadata": {},
   "outputs": [],
   "source": [
    "installs_by_category = play_store_df.groupby('Category')['Installs'].sum().nlargest(10)\n"
   ]
  },
  {
   "cell_type": "code",
   "execution_count": null,
   "id": "efd568be-a73c-402d-892d-8381732213f7",
   "metadata": {},
   "outputs": [],
   "source": [
    "installs_by_category_fig = px.bar(\n",
    "    x=installs_by_category.index,\n",
    "    y=installs_by_category.values,\n",
    "    labels={'x': 'Category', 'y': 'Total Installs'},\n",
    "    title='Total Installs by Category (Top 10)',\n",
    "    color_discrete_sequence=['black']\n",
    "\n",
    ")\n",
    "\n",
    "installs_by_category_fig.show()"
   ]
  },
  {
   "cell_type": "code",
   "execution_count": null,
   "id": "ece59027-b5b9-41dc-b3df-89f8702742e1",
   "metadata": {},
   "outputs": [],
   "source": [
    "import plotly.express as px\n",
    "\n",
    "# Extract year from 'Last Updated' column and count updates per year\n",
    "updates_per_year = play_store_df['Last Updated'].dt.year.value_counts().sort_index()\n",
    "\n",
    "# Create the bar graph\n",
    "updates_per_year_fig = px.bar(\n",
    "    x=updates_per_year.index,\n",
    "    y=updates_per_year.values,\n",
    "    labels={'x': 'Year', 'y': 'Number of Updates'},\n",
    "    title='App Updates per Year',\n",
    "    color_discrete_sequence=['black']\n",
    ")\n",
    "\n",
    "updates_per_year_fig.show()"
   ]
  },
  {
   "cell_type": "code",
   "execution_count": null,
   "id": "5b20a29e-04c2-4f33-bef8-940755d8444c",
   "metadata": {},
   "outputs": [],
   "source": [
    "import plotly.express as px\n",
    "\n",
    "# Calculate average rating by category\n",
    "avg_revenue_by_category = play_store_df.groupby('Category')['Revenue'].sum().nlargest(10)\n",
    "\n",
    "# Create the bar graph\n",
    "avg_revenue_by_category_fig = px.bar(\n",
    "    x=avg_revenue_by_category.index,\n",
    "    y=avg_revenue_by_category.values,\n",
    "    labels={'x': 'Category', 'y': 'Average Revenue'},\n",
    "    title='Average App Revenue by Category',\n",
    "    color_discrete_sequence=['black']\n",
    ")\n",
    "\n",
    "# Show the graph\n",
    "avg_revenue_by_category_fig.show()"
   ]
  },
  {
   "cell_type": "code",
   "execution_count": null,
   "id": "46c7daec-8f7b-437b-ab91-25eeb1c187b9",
   "metadata": {},
   "outputs": [],
   "source": [
    "import plotly.express as px\n",
    "\n",
    "# Count the occurrences of each genre\n",
    "genre_counts = play_store_df['Genres'].value_counts().nlargest(10)\n",
    "\n",
    "# Create the bar graph\n",
    "genre_counts_fig = px.bar(\n",
    "    x=genre_counts.index,\n",
    "    y=genre_counts.values,\n",
    "    labels={'x': 'Genre', 'y': 'Count'},\n",
    "    title='Genre Count in Play Store Data',\n",
    "    color_discrete_sequence=['black']\n",
    ")\n",
    "\n",
    "# Show the graph\n",
    "genre_counts_fig.show()"
   ]
  },
  {
   "cell_type": "code",
   "execution_count": null,
   "id": "cb76300e-dfef-4db5-ad0c-b92e1613ad33",
   "metadata": {},
   "outputs": [],
   "source": [
    "import plotly.express as px\n",
    "\n",
    "# Create the scatter plot\n",
    "lu_fig = px.scatter(\n",
    "    play_store_df,\n",
    "    x='Last Updated',\n",
    "    y='Rating',\n",
    "    title='Scatter Plot: Last Updated vs. Rating',\n",
    "    color_discrete_sequence=['black']\n",
    ")\n",
    "\n",
    "# Show the plot\n",
    "lu_fig.show()"
   ]
  },
  {
   "cell_type": "code",
   "execution_count": null,
   "id": "ae7e8589-720e-43eb-b3d6-07e91ed82b20",
   "metadata": {},
   "outputs": [],
   "source": [
    "import plotly.express as px\n",
    "\n",
    "# Create the box plot\n",
    "tr_fig = px.box(\n",
    "    play_store_df,\n",
    "    x='Type',\n",
    "    y='Rating',\n",
    "    title='Rating for Paid vs Free Apps',\n",
    "    color_discrete_sequence=['black']\n",
    ")\n",
    "\n",
    "# Show the plot\n",
    "tr_fig.show()"
   ]
  },
  {
   "cell_type": "code",
   "execution_count": null,
   "id": "f8f33e73-c753-46c0-91d8-a6ed940124c6",
   "metadata": {},
   "outputs": [],
   "source": [
    "plt.figure(figsize=(18, 24))\n",
    "\n",
    "# 1. Donut Chart: Top 5 Categories\n",
    "plt.subplot(4, 2, 1)  # Adjusted subplot grid\n",
    "top_cats = play_store_df['Category'].value_counts().head(5)\n",
    "wedges, texts, autotexts = plt.pie(\n",
    "    top_cats, labels=top_cats.index, autopct='%1.1f%%', startangle=140\n",
    ")\n",
    "plt.gca().add_artist(plt.Circle((0, 0), 0.70, color='white'))\n",
    "plt.title('Top 5 Categories (Donut)')\n",
    "\n",
    "# 2. Bar Chart: Top 5 Apps by Reviews\n",
    "plt.subplot(4, 2, 2)  # Adjusted subplot grid\n",
    "top_apps = (\n",
    "    merged_df.groupby('App')['Sentiment_Score']\n",
    "    .sum()\n",
    "    .sort_values(ascending=False)\n",
    "    .head(5)\n",
    ")\n",
    "sns.barplot(x=top_apps.values, y=top_apps.index, palette='magma')\n",
    "plt.title('Top 5 Apps by Reviews (Bar)')\n",
    "\n",
    "# 3. Pie Chart: Type Distribution\n",
    "plt.subplot(4, 2, 3)  # Adjusted subplot grid\n",
    "type_counts = play_store_df['Type'].value_counts()\n",
    "plt.pie(type_counts, labels=type_counts.index, autopct='%1.1f%%', startangle=140)\n",
    "plt.title('App Type (Pie)')\n",
    "\n",
    "# 4. Treemap: Top 5 Categories by Installs\n",
    "plt.subplot(4, 2, 4)  # Adjusted subplot grid\n",
    "top_installs = (\n",
    "    play_store_df.groupby('Category')['Installs']\n",
    "    .sum()\n",
    "    .sort_values(ascending=False)\n",
    "    .head(5)\n",
    ")\n",
    "# Generate a list of colors (you can customize these)\n",
    "colors = ['red', 'blue', 'green', 'orange', 'purple']\n",
    "squarify.plot(sizes=top_installs.values, label=top_installs.index, alpha=0.8, color=colors)\n",
    "plt.axis('off')\n",
    "plt.title('Top 5 Categories by Installs (Treemap)')\n",
    "\n",
    "# 5. Histogram: App Ratings\n",
    "plt.subplot(4, 2, 5)  # Adjusted subplot grid\n",
    "sns.histplot(play_store_df['Rating'].dropna(), bins=10, kde=True)\n",
    "plt.title('App Ratings (Histogram)')\n",
    "\n",
    "# 6. Box Plot: Rating Distribution by Content Rating\n",
    "plt.subplot(4, 2, 6)  # New subplot\n",
    "sns.boxplot(x='Content Rating', y='Rating', data=play_store_df)\n",
    "plt.xticks(rotation=45, ha='right')  # Rotate x-axis labels for better readability\n",
    "plt.title('Rating Distribution by Content Rating (Box Plot)')\n",
    "\n",
    "# 7. Scatter Plot: Installs vs. Rating\n",
    "plt.subplot(4, 2, 7)  # New subplot\n",
    "sns.scatterplot(x='Installs', y='Rating', data=play_store_df)\n",
    "plt.title('Installs vs. Rating (Scatter Plot)')\n",
    "\n",
    "# 8. Line Chart: Average Rating Over Time\n",
    "plt.subplot(4, 2, 8)  # New subplot\n",
    "# Assuming 'Last Updated' is already in datetime format\n",
    "avg_rating_over_time = (\n",
    "    play_store_df.groupby(pd.Grouper(key='Last Updated', freq='M'))['Rating']\n",
    "    .mean()\n",
    "    .reset_index()\n",
    ")\n",
    "sns.lineplot(x='Last Updated', y='Rating', data=avg_rating_over_time)\n",
    "plt.xticks(rotation=45, ha='right')  # Rotate x-axis labels for better readability\n",
    "plt.title('Average Rating Over Time (Line Chart)')\n",
    "\n",
    "plt.tight_layout()\n",
    "plt.show()"
   ]
  },
  {
   "cell_type": "code",
   "execution_count": null,
   "id": "5cb89d54-323e-4084-a45d-78fc6f9ccc30",
   "metadata": {},
   "outputs": [],
   "source": []
  }
 ],
 "metadata": {
  "kernelspec": {
   "display_name": "Python 3 (ipykernel)",
   "language": "python",
   "name": "python3"
  },
  "language_info": {
   "codemirror_mode": {
    "name": "ipython",
    "version": 3
   },
   "file_extension": ".py",
   "mimetype": "text/x-python",
   "name": "python",
   "nbconvert_exporter": "python",
   "pygments_lexer": "ipython3",
   "version": "3.13.3"
  }
 },
 "nbformat": 4,
 "nbformat_minor": 5
}
